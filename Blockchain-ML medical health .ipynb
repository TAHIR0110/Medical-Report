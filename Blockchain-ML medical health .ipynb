{
 "cells": [
  {
   "cell_type": "code",
   "execution_count": 3,
   "id": "511dbfef",
   "metadata": {},
   "outputs": [
    {
     "data": {
      "text/plain": [
       "'/Users/tahirabbas'"
      ]
     },
     "execution_count": 3,
     "metadata": {},
     "output_type": "execute_result"
    }
   ],
   "source": [
    "import numpy as np\n",
    "import pandas as pd\n",
    "import os\n",
    "import seaborn as sns\n",
    "import matplotlib.pyplot as plt\n",
    "from time import time\n",
    "from sklearn.model_selection import train_test_split\n",
    "from sklearn.preprocessing import StandardScaler\n",
    "from sklearn.ensemble import RandomForestClassifier, VotingClassifier\n",
    "from sklearn.metrics import accuracy_score\n",
    "from xgboost import XGBClassifier, XGBRegressor\n",
    "from catboost import CatBoostClassifier, CatBoostRegressor\n",
    "os.getcwd()"
   ]
  },
  {
   "cell_type": "code",
   "execution_count": 4,
   "id": "495394d2",
   "metadata": {},
   "outputs": [],
   "source": [
    "os.chdir('/Users/tahirabbas/Desktop/imp')"
   ]
  },
  {
   "cell_type": "code",
   "execution_count": 6,
   "id": "c6ce42ec",
   "metadata": {},
   "outputs": [
    {
     "name": "stdout",
     "output_type": "stream",
     "text": [
      "Enter Age: 67\n",
      "Enter Sex (Male/Female): 1\n",
      "Enter Cholesterol level: 208\n",
      "Enter Blood Pressure: 15888\n",
      "Enter Heart Rate: 72\n",
      "Enter Exercise Hours Per Week: 4.16\n",
      "Enter Physical Activity Days Per Week: 0\n",
      "Enter Sleep Hours Per Day: 6\n"
     ]
    },
    {
     "name": "stderr",
     "output_type": "stream",
     "text": [
      "/Users/tahirabbas/anaconda3/lib/python3.11/site-packages/sklearn/base.py:439: UserWarning: X does not have valid feature names, but StandardScaler was fitted with feature names\n",
      "  warnings.warn(\n"
     ]
    },
    {
     "name": "stdout",
     "output_type": "stream",
     "text": [
      "Enter a key to save the report: 0110\n",
      "Medical report created and saved successfully!\n"
     ]
    }
   ],
   "source": [
    "class Blockchain:\n",
    "    def __init__(self):\n",
    "        self.chain = []\n",
    "        self.current_reports = []\n",
    "        self.create_block(proof=1, previous_hash='0')\n",
    "        self.reports = {}\n",
    "\n",
    "    def create_block(self, proof, previous_hash):\n",
    "        block = {\n",
    "            'index': len(self.chain) + 1,\n",
    "            'timestamp': time(),\n",
    "            'proof': proof,\n",
    "            'previous_hash': previous_hash,\n",
    "            'reports': self.current_reports\n",
    "        }\n",
    "        self.chain.append(block)\n",
    "        self.current_reports = []\n",
    "        return block\n",
    "\n",
    "    def add_report(self, stress_value, diagnosis, key):\n",
    "        self.reports.setdefault(key, []).append({\n",
    "            'stress_value': stress_value,\n",
    "            'diagnosis': diagnosis\n",
    "        })\n",
    "        self.current_reports.append({\n",
    "            'stress_value': stress_value,\n",
    "            'diagnosis': diagnosis\n",
    "        })\n",
    "\n",
    "    def get_last_block(self):\n",
    "        return self.chain[-1]\n",
    "\n",
    "    def get_reports_by_key(self, key):\n",
    "        return self.reports.get(key, [])\n",
    "\n",
    "def load_and_prepare_data():\n",
    "    df = pd.read_csv('heart.csv')\n",
    "    label_encoder = LabelEncoder()\n",
    "    df['Sex'] = label_encoder.fit_transform(df['Sex'])\n",
    "    df['Blood Pressure'] = df['Blood Pressure'].str.replace('/', '').astype(float)\n",
    "    df.drop(['Patient ID', 'Diabetes', 'Family History', \"Smoking\", 'Alcohol Consumption', 'Diet', 'Previous Heart Problems', 'Medication Use', 'Sedentary Hours Per Day', 'Income', 'BMI', 'Triglycerides', 'Country', 'Continent', 'Hemisphere', 'Heart Attack Risk', 'Obesity'], axis=1, inplace=True)\n",
    "    y = df['Stress Level']\n",
    "    X = df.drop([\"Stress Level\"], axis=1)\n",
    "    return X, y\n",
    "\n",
    "def train_model(X, y):\n",
    "    X_train, X_test, y_train, y_test = train_test_split(X, y, test_size=0.2, random_state=42)\n",
    "    scaler = StandardScaler()\n",
    "    X_train_scaled = scaler.fit_transform(X_train)\n",
    "    X_test_scaled = scaler.transform(X_test)\n",
    "    rf_clf = RandomForestClassifier(random_state=42)\n",
    "    xgb_clf = XGBClassifier(random_state=42)\n",
    "    voting_clf = VotingClassifier(estimators=[('rf', rf_clf), ('xgb', xgb_clf)], voting='soft')\n",
    "    voting_clf.fit(X_train_scaled, y_train)\n",
    "    return voting_clf, scaler\n",
    "\n",
    "def predict_stress_level(model, scaler, user_input):\n",
    "    user_input_scaled = scaler.transform([user_input])\n",
    "    predicted_stress_level = model.predict(user_input_scaled)[0]\n",
    "    return predicted_stress_level\n",
    "\n",
    "def get_diagnosis(stress_level):\n",
    "    if stress_level <= 3:\n",
    "        return \"Stress level is in control.\"\n",
    "    elif stress_level <= 7:\n",
    "        return \"Moderate stress level. Recommend stress management techniques.\"\n",
    "    else:\n",
    "        return \"Consult a doctor, your stress level is very high.\"\n",
    "\n",
    "def get_user_input():\n",
    "    age = float(input(\"Enter Age: \"))\n",
    "    sex = input(\"Enter Sex (Male/Female): \")\n",
    "    sex = 1 if sex.lower() == 'male' else 0\n",
    "    cholesterol = float(input(\"Enter Cholesterol level: \"))\n",
    "    blood_pressure = float(input(\"Enter Blood Pressure: \"))\n",
    "    heart_rate = float(input(\"Enter Heart Rate: \"))\n",
    "    exercise_hours_per_week = float(input(\"Enter Exercise Hours Per Week: \"))\n",
    "    physical_activity_days_per_week = float(input(\"Enter Physical Activity Days Per Week: \"))\n",
    "    sleep_hours_per_day = float(input(\"Enter Sleep Hours Per Day: \"))\n",
    "    \n",
    "    user_input = [age, sex, cholesterol, blood_pressure, heart_rate, exercise_hours_per_week, physical_activity_days_per_week, sleep_hours_per_day]\n",
    "    return user_input\n",
    "\n",
    "X, y = load_and_prepare_data()\n",
    "model, scaler = train_model(X, y)\n",
    "user_input = get_user_input()\n",
    "predicted_stress_level = predict_stress_level(model, scaler, user_input)\n",
    "diagnosis = get_diagnosis(predicted_stress_level)\n",
    "\n",
    "blockchain = Blockchain()\n",
    "key = input(\"Enter a key to save the report: \")\n",
    "blockchain.add_report(predicted_stress_level, diagnosis, key)\n",
    "print(\"Medical report created and saved successfully!\")\n"
   ]
  },
  {
   "cell_type": "code",
   "execution_count": 7,
   "id": "18fe4e7a",
   "metadata": {},
   "outputs": [
    {
     "name": "stdout",
     "output_type": "stream",
     "text": [
      "Enter your key to retrieve the reports: 0110\n",
      "All medical reports associated with the key:\n",
      "Report 1: Stress Value: 6, Diagnosis: Moderate stress level. Recommend stress management techniques.\n"
     ]
    }
   ],
   "source": [
    "def retrieve_reports(blockchain, key):\n",
    "    reports = blockchain.reports.get(key, None)\n",
    "    if reports is None:\n",
    "        return \"No reports found for this key.\"\n",
    "    else:\n",
    "        return reports\n",
    "\n",
    "key_to_retrieve = input(\"Enter your key to retrieve the reports: \")\n",
    "reports = retrieve_reports(blockchain, key_to_retrieve)\n",
    "\n",
    "if isinstance(reports, list):\n",
    "    print(\"All medical reports associated with the key:\")\n",
    "    for i, report in enumerate(reports, start=1):\n",
    "        print(f\"Report {i}: Stress Value: {report['stress_value']}, Diagnosis: {report['diagnosis']}\")\n",
    "else:\n",
    "    print(reports)\n"
   ]
  },
  {
   "cell_type": "code",
   "execution_count": null,
   "id": "473eaff9",
   "metadata": {},
   "outputs": [],
   "source": []
  }
 ],
 "metadata": {
  "kernelspec": {
   "display_name": "Python 3 (ipykernel)",
   "language": "python",
   "name": "python3"
  },
  "language_info": {
   "codemirror_mode": {
    "name": "ipython",
    "version": 3
   },
   "file_extension": ".py",
   "mimetype": "text/x-python",
   "name": "python",
   "nbconvert_exporter": "python",
   "pygments_lexer": "ipython3",
   "version": "3.11.3"
  }
 },
 "nbformat": 4,
 "nbformat_minor": 5
}
